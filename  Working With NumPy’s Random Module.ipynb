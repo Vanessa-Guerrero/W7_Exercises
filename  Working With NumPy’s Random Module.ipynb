{
 "cells": [
  {
   "cell_type": "code",
   "execution_count": 1,
   "id": "db4aad1b-0a28-46c9-9e6f-42454e5f2e9f",
   "metadata": {},
   "outputs": [],
   "source": [
    "import numpy as np"
   ]
  },
  {
   "cell_type": "markdown",
   "id": "c0cf0443-fa6c-44d3-863e-b3d547ea1380",
   "metadata": {},
   "source": [
    "### Generating Random Numbers"
   ]
  },
  {
   "cell_type": "code",
   "execution_count": 11,
   "id": "f6e6d0d0-f82f-4724-83c6-b81eab59575a",
   "metadata": {},
   "outputs": [
    {
     "name": "stdout",
     "output_type": "stream",
     "text": [
      "[2 8]\n"
     ]
    }
   ],
   "source": [
    "r_1 = np.random.randint(1, 20, size=(2))\n",
    "print(r_1)"
   ]
  },
  {
   "cell_type": "code",
   "execution_count": 12,
   "id": "ee91526c-45b1-4941-a254-db301fb51048",
   "metadata": {},
   "outputs": [
    {
     "name": "stdout",
     "output_type": "stream",
     "text": [
      "[[ 5 16]]\n"
     ]
    }
   ],
   "source": [
    "r_2 = np.random.randint(1, 20, size=(1, 2))\n",
    "print(r_2)"
   ]
  },
  {
   "cell_type": "code",
   "execution_count": 13,
   "id": "18055228-42e5-4e49-a6c7-00be8bd5ce34",
   "metadata": {},
   "outputs": [
    {
     "name": "stdout",
     "output_type": "stream",
     "text": [
      "[[0.65305358]\n",
      " [0.22916053]]\n"
     ]
    }
   ],
   "source": [
    "r_3 = np.random.rand(2, 1)\n",
    "print(r_3)"
   ]
  },
  {
   "cell_type": "code",
   "execution_count": 14,
   "id": "daec3e8e-33a6-4958-ba95-20e6f27a9b7e",
   "metadata": {},
   "outputs": [
    {
     "name": "stdout",
     "output_type": "stream",
     "text": [
      "[[60 78 97 36 63]\n",
      " [49 61 53 36 43]\n",
      " [25 21 69 86 40]\n",
      " [43 50 89 74 29]]\n"
     ]
    }
   ],
   "source": [
    "r_4 = np.random.randint(20, 100, size=(4, 5))\n",
    "print(r_4)"
   ]
  },
  {
   "cell_type": "code",
   "execution_count": 15,
   "id": "53eccac1-8fdd-4e1e-80bd-242988bd4523",
   "metadata": {},
   "outputs": [
    {
     "name": "stdout",
     "output_type": "stream",
     "text": [
      "[[0.27891692 0.4327779  0.33266883 0.59790141 0.14384192]\n",
      " [0.01387847 0.80074456 0.56619375 0.58497467 0.08551542]\n",
      " [0.08801943 0.27332177 0.53645426 0.05429035 0.81673661]\n",
      " [0.27210493 0.52411452 0.04782847 0.49075918 0.77787285]]\n"
     ]
    }
   ],
   "source": [
    "r_5 = np.random.rand(4, 5)\n",
    "print(r_5)"
   ]
  },
  {
   "cell_type": "markdown",
   "id": "78980640-99b6-4f27-917b-a9b04e01d797",
   "metadata": {},
   "source": [
    "### Generating Random Choices from an Array"
   ]
  },
  {
   "cell_type": "code",
   "execution_count": 18,
   "id": "bfbc537c-efcb-427e-9e7d-c51a07a2ca2a",
   "metadata": {},
   "outputs": [],
   "source": [
    "students = ['Jennifer', 'Jacob', 'Anthony', 'Symone', 'Zainab', 'Caitlan', 'Hassan', 'Vieri', 'Craig', 'Rodolfo', 'Jaela', 'Kailyn']"
   ]
  },
  {
   "cell_type": "code",
   "execution_count": 20,
   "id": "905e22c4-36e3-4a01-84ad-d0801dcd120b",
   "metadata": {},
   "outputs": [
    {
     "name": "stdout",
     "output_type": "stream",
     "text": [
      "Kailyn\n"
     ]
    }
   ],
   "source": [
    "call_on = np.random.choice(students)\n",
    "print(call_on)"
   ]
  },
  {
   "cell_type": "code",
   "execution_count": 21,
   "id": "aca52b69-8c35-4fa8-95a3-098243fc1f8a",
   "metadata": {},
   "outputs": [
    {
     "name": "stdout",
     "output_type": "stream",
     "text": [
      "[['Jennifer' 'Jennifer' 'Vieri' 'Kailyn']\n",
      " ['Zainab' 'Zainab' 'Jaela' 'Rodolfo']\n",
      " ['Zainab' 'Jaela' 'Caitlan' 'Zainab']]\n"
     ]
    }
   ],
   "source": [
    "breakout_groups = np.random.choice(students, size=(3, 4))\n",
    "print(breakout_groups)"
   ]
  },
  {
   "cell_type": "code",
   "execution_count": 22,
   "id": "4af63173-4a6b-47e4-8f40-022770120cd3",
   "metadata": {},
   "outputs": [],
   "source": [
    "# This would not be an effective way to assign breakout groups since it repeats students names"
   ]
  },
  {
   "cell_type": "code",
   "execution_count": 29,
   "id": "39bc82c1-977f-49e8-8590-458eef865953",
   "metadata": {},
   "outputs": [
    {
     "name": "stdout",
     "output_type": "stream",
     "text": [
      "['Jennifer' 'Symone' 'Jennifer' 'Zainab' 'Jennifer']\n"
     ]
    }
   ],
   "source": [
    "call_on_weighted = np.random.choice(students, p=[0.3, 0.1, 0.1, 0.05, 0.05, 0.05, 0.05, 0.05, 0.05, 0.1, 0.1, 0.0], size=(5))\n",
    "# # Explanation of probabilities:\n",
    "# - Jennifer has a 30% likelihood of being selected.\n",
    "# - Kailyn has a 0% likelihood, so she will not be chosen.\n",
    "# - Jacob, Anthony, Rodolfo, and Jaela each have a 10% likelihood.\n",
    "# - The other students each have a 5% likelihood.\n",
    "print(call_on_weighted)"
   ]
  },
  {
   "cell_type": "markdown",
   "id": "c2e61d5f-363b-4c05-93f3-5f51a0183017",
   "metadata": {},
   "source": [
    "### Generating a Normal Distribution"
   ]
  },
  {
   "cell_type": "code",
   "execution_count": 30,
   "id": "342d59df-24e2-40cb-a889-59bfd0855ac2",
   "metadata": {},
   "outputs": [
    {
     "name": "stdout",
     "output_type": "stream",
     "text": [
      "[[13.86795638 -4.64120777 12.40438721  9.06689884 21.16747815]\n",
      " [11.63489497  8.89052223  9.79139119  7.40845431 10.06239019]\n",
      " [11.41333827 14.9970172   9.05032076 14.68881759  6.36570736]\n",
      " [ 8.09373919 12.93174785 12.2708011   2.01198118 16.07456742]]\n"
     ]
    }
   ],
   "source": [
    "bell_curve = np.random.normal(loc=10, scale=5, size=(4, 5))\n",
    "print(bell_curve)"
   ]
  },
  {
   "cell_type": "code",
   "execution_count": null,
   "id": "007ea085-01e6-4562-ad35-51d00c1e1ea7",
   "metadata": {},
   "outputs": [],
   "source": []
  }
 ],
 "metadata": {
  "kernelspec": {
   "display_name": "Python 3 (ipykernel)",
   "language": "python",
   "name": "python3"
  },
  "language_info": {
   "codemirror_mode": {
    "name": "ipython",
    "version": 3
   },
   "file_extension": ".py",
   "mimetype": "text/x-python",
   "name": "python",
   "nbconvert_exporter": "python",
   "pygments_lexer": "ipython3",
   "version": "3.12.6"
  }
 },
 "nbformat": 4,
 "nbformat_minor": 5
}
