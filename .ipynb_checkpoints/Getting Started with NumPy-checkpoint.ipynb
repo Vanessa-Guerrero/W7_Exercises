{
 "cells": [
  {
   "cell_type": "markdown",
   "id": "82926c6d-3e9f-425e-8571-b7dc00c43370",
   "metadata": {},
   "source": [
    "# Exercise 2.A NumPy fundamentals "
   ]
  },
  {
   "cell_type": "code",
   "execution_count": 1,
   "id": "563ca0f2-b746-42ad-b4ee-832766100986",
   "metadata": {},
   "outputs": [],
   "source": [
    "import numpy as np"
   ]
  },
  {
   "cell_type": "markdown",
   "id": "faad0a81-a1cf-41ff-8d5e-5b370c537bd1",
   "metadata": {},
   "source": [
    "## Array Basics"
   ]
  },
  {
   "cell_type": "code",
   "execution_count": 2,
   "id": "dfbb2af9-afd3-46fa-a03a-2716068207b9",
   "metadata": {},
   "outputs": [],
   "source": [
    "fruits = ['apple', 'banana', 'cherry', 'date']"
   ]
  },
  {
   "cell_type": "code",
   "execution_count": 4,
   "id": "33e5e6a5-f428-45bd-8978-b74ef831e3b8",
   "metadata": {},
   "outputs": [
    {
     "name": "stdout",
     "output_type": "stream",
     "text": [
      "['apple' 'banana' 'cherry' 'date']\n"
     ]
    }
   ],
   "source": [
    "arr_1 = np.array(fruits)\n",
    "print(arr_1)"
   ]
  },
  {
   "cell_type": "code",
   "execution_count": 7,
   "id": "0249090d-af27-4a3d-bca1-516f4913cdc0",
   "metadata": {},
   "outputs": [
    {
     "data": {
      "text/plain": [
       "dtype('<U6')"
      ]
     },
     "execution_count": 7,
     "metadata": {},
     "output_type": "execute_result"
    }
   ],
   "source": [
    "arr_1.dtype"
   ]
  },
  {
   "cell_type": "code",
   "execution_count": 9,
   "id": "924b9350-f053-4c84-b511-4e8d811896df",
   "metadata": {},
   "outputs": [],
   "source": [
    "# < means little endian byte order so the least significant byte is stored first\n",
    "# U means Unicode string\n",
    "# 6 is the max number of character in the unicode string that's stored"
   ]
  },
  {
   "cell_type": "code",
   "execution_count": 11,
   "id": "93c63ac4-1ab3-443e-98ce-e50b404ab7a7",
   "metadata": {},
   "outputs": [
    {
     "name": "stdout",
     "output_type": "stream",
     "text": [
      "[[10 11 12]\n",
      " [13 14 15]]\n"
     ]
    }
   ],
   "source": [
    "arr_2 = np.array([[10, 11, 12], [13, 14, 15]])\n",
    "print(arr_2)"
   ]
  },
  {
   "cell_type": "code",
   "execution_count": 16,
   "id": "9d0624fa-3bab-40db-8a80-c4214be26308",
   "metadata": {},
   "outputs": [
    {
     "name": "stdout",
     "output_type": "stream",
     "text": [
      "[[10 13]\n",
      " [11 14]\n",
      " [12 15]]\n"
     ]
    }
   ],
   "source": [
    "print(arr_2.T)"
   ]
  },
  {
   "cell_type": "code",
   "execution_count": 17,
   "id": "120c5fec-31a9-42ae-8a47-a816dddfb8f0",
   "metadata": {},
   "outputs": [],
   "source": [
    "# Using the transpose atrribute (.T) does not change the values stored in arr_2"
   ]
  },
  {
   "cell_type": "code",
   "execution_count": 18,
   "id": "b3b7efdf-3049-4f9e-8b4e-bcf249976d1b",
   "metadata": {},
   "outputs": [
    {
     "name": "stdout",
     "output_type": "stream",
     "text": [
      "[[1 3 5]\n",
      " [2 4 6]]\n"
     ]
    }
   ],
   "source": [
    "arr_3 = np.array([[1, 3, 5], [2, 4, 6]])\n",
    "print(arr_3)"
   ]
  },
  {
   "cell_type": "code",
   "execution_count": 19,
   "id": "9e051792-f719-4df6-a208-8adb4aa0df0c",
   "metadata": {},
   "outputs": [
    {
     "name": "stdout",
     "output_type": "stream",
     "text": [
      "[5 4]\n"
     ]
    }
   ],
   "source": [
    "arr_4 = np.array([arr_3[0, 2], arr_3[1, 1]])\n",
    "print(arr_4)"
   ]
  },
  {
   "cell_type": "code",
   "execution_count": 20,
   "id": "e04918fd-051e-4a83-b1bd-2c96a7f92e97",
   "metadata": {},
   "outputs": [
    {
     "name": "stdout",
     "output_type": "stream",
     "text": [
      "[[[1 1]\n",
      "  [1 1]]\n",
      "\n",
      " [[1 1]\n",
      "  [1 1]]]\n"
     ]
    }
   ],
   "source": [
    "arr_5 = np.array([[[1, 1], [1, 1]], [[1, 1], [1, 1]]])\n",
    "print(arr_5)"
   ]
  },
  {
   "cell_type": "code",
   "execution_count": 23,
   "id": "8f444d7d-53dd-4de7-b1fe-f85a9e8ef34c",
   "metadata": {},
   "outputs": [
    {
     "name": "stdout",
     "output_type": "stream",
     "text": [
      "(2, 2, 2)\n"
     ]
    }
   ],
   "source": [
    "print(arr_5.shape) # using this to confirm that each dimension had 2 values"
   ]
  }
 ],
 "metadata": {
  "kernelspec": {
   "display_name": "Python 3 (ipykernel)",
   "language": "python",
   "name": "python3"
  },
  "language_info": {
   "codemirror_mode": {
    "name": "ipython",
    "version": 3
   },
   "file_extension": ".py",
   "mimetype": "text/x-python",
   "name": "python",
   "nbconvert_exporter": "python",
   "pygments_lexer": "ipython3",
   "version": "3.12.6"
  }
 },
 "nbformat": 4,
 "nbformat_minor": 5
}
