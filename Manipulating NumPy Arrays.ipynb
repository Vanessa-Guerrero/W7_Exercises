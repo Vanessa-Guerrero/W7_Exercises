{
 "cells": [
  {
   "cell_type": "code",
   "execution_count": 1,
   "id": "766d32a7-0d95-4a49-8426-ee4f580bb880",
   "metadata": {},
   "outputs": [],
   "source": [
    "import numpy as np"
   ]
  },
  {
   "cell_type": "markdown",
   "id": "93592fac-c7c3-49b3-ada6-73ba8ebbc2e1",
   "metadata": {},
   "source": [
    "### Looping Through Arrays"
   ]
  },
  {
   "cell_type": "code",
   "execution_count": 3,
   "id": "e07cb721-bb49-46a9-bc14-66e43fdad7d1",
   "metadata": {},
   "outputs": [
    {
     "name": "stdout",
     "output_type": "stream",
     "text": [
      "[[11 12 13]\n",
      " [14 15 16]]\n"
     ]
    }
   ],
   "source": [
    "arrA = np.array([[11, 12, 13] , [14, 15, 16]])\n",
    "print(arrA)"
   ]
  },
  {
   "cell_type": "code",
   "execution_count": 8,
   "id": "70647dea-addf-4c7f-b655-0b901b685db9",
   "metadata": {},
   "outputs": [
    {
     "name": "stdout",
     "output_type": "stream",
     "text": [
      "[22 24 26]\n",
      "[28 30 32]\n"
     ]
    }
   ],
   "source": [
    "for x in arrA:\n",
    "    print(x * 2)"
   ]
  },
  {
   "cell_type": "code",
   "execution_count": 11,
   "id": "2f7133fd-415e-47b0-81e7-5f8447188098",
   "metadata": {},
   "outputs": [
    {
     "name": "stdout",
     "output_type": "stream",
     "text": [
      "22\n",
      "24\n",
      "26\n",
      "28\n",
      "30\n",
      "32\n"
     ]
    }
   ],
   "source": [
    "for x in arrA:\n",
    "    for y in x:\n",
    "        print(y * 2)"
   ]
  },
  {
   "cell_type": "markdown",
   "id": "4dce811c-c0a1-4746-891b-ebb2149ad065",
   "metadata": {},
   "source": [
    "The first loop resulted in the first dimension of arrA being printed. Since there were 2 arrays in arrA, it printed one array as a row, but we mentioned to multipy the values by 2.\n",
    "Therefore, it printed 2 arrays with the values multipied by 2\n",
    "\n",
    "The second loop printed each individual element (same values as the first loop since we still disclosed it to multiply 2), but it printed indivually by line"
   ]
  },
  {
   "cell_type": "code",
   "execution_count": 22,
   "id": "5373e360-92d0-445b-a798-826255a90470",
   "metadata": {},
   "outputs": [
    {
     "name": "stdout",
     "output_type": "stream",
     "text": [
      "[22 24 26]\n",
      "[22 24 26]\n",
      "[22 24 26]\n",
      "[28 30 32]\n",
      "[28 30 32]\n",
      "[28 30 32]\n"
     ]
    }
   ],
   "source": [
    "for x in arrA:\n",
    "    for y in x:\n",
    "        loop_result = x * 2\n",
    "        print(loop_result)\n",
    "# This resulted in the first array shown 3 times with the values duplicated\n",
    "# Same for the second array. I think for each value (6 in total) it printed x (1st array and 2nd array)"
   ]
  },
  {
   "cell_type": "markdown",
   "id": "2dd2212c-eebc-48d2-affe-a80b469b312d",
   "metadata": {},
   "source": [
    "### Joining and Stacking Arrays"
   ]
  },
  {
   "cell_type": "code",
   "execution_count": 24,
   "id": "9e17cf6d-1d7f-46bf-9a91-49ba17688b99",
   "metadata": {},
   "outputs": [
    {
     "name": "stdout",
     "output_type": "stream",
     "text": [
      "[[11 12 13]\n",
      " [14 15 16]\n",
      " [11 12 13]\n",
      " [14 15 16]]\n"
     ]
    }
   ],
   "source": [
    "joined_array_1 = np.concatenate((arrA, arrA)) #Concat. on axis=0, default so not specified\n",
    "print(joined_array_1)"
   ]
  },
  {
   "cell_type": "code",
   "execution_count": 26,
   "id": "1aeb469f-2ddf-4b9c-b34a-9ec2c4616a6d",
   "metadata": {},
   "outputs": [
    {
     "name": "stdout",
     "output_type": "stream",
     "text": [
      "[[11 12 13 11 12 13]\n",
      " [14 15 16 14 15 16]]\n"
     ]
    }
   ],
   "source": [
    "joined_array_2 = np.concatenate((arrA, arrA), axis=1)\n",
    "print(joined_array_2)"
   ]
  },
  {
   "cell_type": "code",
   "execution_count": 28,
   "id": "02f2a795-25bd-459f-892f-fa4e32019080",
   "metadata": {},
   "outputs": [
    {
     "name": "stdout",
     "output_type": "stream",
     "text": [
      "[[[11 12 13]\n",
      "  [14 15 16]\n",
      "  [11 12 13]\n",
      "  [14 15 16]]\n",
      "\n",
      " [[11 12 13]\n",
      "  [14 15 16]\n",
      "  [11 12 13]\n",
      "  [14 15 16]]]\n"
     ]
    }
   ],
   "source": [
    "stacked_array_1 = np.stack((joined_array_1, joined_array_1))\n",
    "print(stacked_array_1)"
   ]
  },
  {
   "cell_type": "code",
   "execution_count": 34,
   "id": "205c72c3-6682-4910-b869-d5af5e109a07",
   "metadata": {},
   "outputs": [
    {
     "ename": "ValueError",
     "evalue": "all input arrays must have the same shape",
     "output_type": "error",
     "traceback": [
      "\u001b[1;31m---------------------------------------------------------------------------\u001b[0m",
      "\u001b[1;31mValueError\u001b[0m                                Traceback (most recent call last)",
      "Cell \u001b[1;32mIn[34], line 1\u001b[0m\n\u001b[1;32m----> 1\u001b[0m stacked_array_2 \u001b[38;5;241m=\u001b[39m \u001b[43mnp\u001b[49m\u001b[38;5;241;43m.\u001b[39;49m\u001b[43mstack\u001b[49m\u001b[43m(\u001b[49m\u001b[43m(\u001b[49m\u001b[43mjoined_array_1\u001b[49m\u001b[43m,\u001b[49m\u001b[43m \u001b[49m\u001b[43mjoined_array_2\u001b[49m\u001b[43m)\u001b[49m\u001b[43m)\u001b[49m\n",
      "File \u001b[1;32m~\\AppData\\Local\\Programs\\Python\\Python312\\Lib\\site-packages\\numpy\\_core\\shape_base.py:457\u001b[0m, in \u001b[0;36mstack\u001b[1;34m(arrays, axis, out, dtype, casting)\u001b[0m\n\u001b[0;32m    455\u001b[0m shapes \u001b[38;5;241m=\u001b[39m {arr\u001b[38;5;241m.\u001b[39mshape \u001b[38;5;28;01mfor\u001b[39;00m arr \u001b[38;5;129;01min\u001b[39;00m arrays}\n\u001b[0;32m    456\u001b[0m \u001b[38;5;28;01mif\u001b[39;00m \u001b[38;5;28mlen\u001b[39m(shapes) \u001b[38;5;241m!=\u001b[39m \u001b[38;5;241m1\u001b[39m:\n\u001b[1;32m--> 457\u001b[0m     \u001b[38;5;28;01mraise\u001b[39;00m \u001b[38;5;167;01mValueError\u001b[39;00m(\u001b[38;5;124m'\u001b[39m\u001b[38;5;124mall input arrays must have the same shape\u001b[39m\u001b[38;5;124m'\u001b[39m)\n\u001b[0;32m    459\u001b[0m result_ndim \u001b[38;5;241m=\u001b[39m arrays[\u001b[38;5;241m0\u001b[39m]\u001b[38;5;241m.\u001b[39mndim \u001b[38;5;241m+\u001b[39m \u001b[38;5;241m1\u001b[39m\n\u001b[0;32m    460\u001b[0m axis \u001b[38;5;241m=\u001b[39m normalize_axis_index(axis, result_ndim)\n",
      "\u001b[1;31mValueError\u001b[0m: all input arrays must have the same shape"
     ]
    }
   ],
   "source": [
    "stacked_array_2 = np.stack((joined_array_1, joined_array_2))"
   ]
  },
  {
   "cell_type": "code",
   "execution_count": 30,
   "id": "78d82de6-e551-46dd-8ae9-9fcf0ca53e4b",
   "metadata": {},
   "outputs": [],
   "source": [
    "# stacked_array_2 produced a ValueError message since the input arrays are diff. shapes"
   ]
  },
  {
   "cell_type": "code",
   "execution_count": 32,
   "id": "b16e8505-fce9-4de7-89b2-a8c6dd33eb86",
   "metadata": {},
   "outputs": [
    {
     "name": "stdout",
     "output_type": "stream",
     "text": [
      "[[11 12 13]\n",
      " [14 15 16]\n",
      " [11 12 13]\n",
      " [14 15 16]\n",
      " [11 12 13]\n",
      " [14 15 16]]\n"
     ]
    }
   ],
   "source": [
    "another_joined_array = np.concatenate((joined_array_1, arrA))\n",
    "print(another_joined_array)"
   ]
  },
  {
   "cell_type": "code",
   "execution_count": 33,
   "id": "eb699d9a-6aba-4ac4-8a3f-88017b78a7ba",
   "metadata": {},
   "outputs": [
    {
     "ename": "ValueError",
     "evalue": "all the input array dimensions except for the concatenation axis must match exactly, but along dimension 0, the array at index 0 has size 4 and the array at index 1 has size 2",
     "output_type": "error",
     "traceback": [
      "\u001b[1;31m---------------------------------------------------------------------------\u001b[0m",
      "\u001b[1;31mValueError\u001b[0m                                Traceback (most recent call last)",
      "Cell \u001b[1;32mIn[33], line 1\u001b[0m\n\u001b[1;32m----> 1\u001b[0m another_2 \u001b[38;5;241m=\u001b[39m \u001b[43mnp\u001b[49m\u001b[38;5;241;43m.\u001b[39;49m\u001b[43mconcatenate\u001b[49m\u001b[43m(\u001b[49m\u001b[43m(\u001b[49m\u001b[43mjoined_array_1\u001b[49m\u001b[43m,\u001b[49m\u001b[43m \u001b[49m\u001b[43marrA\u001b[49m\u001b[43m)\u001b[49m\u001b[43m,\u001b[49m\u001b[43m \u001b[49m\u001b[43maxis\u001b[49m\u001b[38;5;241;43m=\u001b[39;49m\u001b[38;5;241;43m1\u001b[39;49m\u001b[43m)\u001b[49m \n",
      "\u001b[1;31mValueError\u001b[0m: all the input array dimensions except for the concatenation axis must match exactly, but along dimension 0, the array at index 0 has size 4 and the array at index 1 has size 2"
     ]
    }
   ],
   "source": [
    "another_2 = np.concatenate((joined_array_1, arrA), axis=1) "
   ]
  },
  {
   "cell_type": "code",
   "execution_count": 35,
   "id": "4dd94447-e6ff-4ab9-a4e4-79e77e4aeb6e",
   "metadata": {},
   "outputs": [],
   "source": [
    "# Value Error saying that 1st array has a size 4 and 2nd array has a size 2 \n",
    "# Has to have same dimensions"
   ]
  },
  {
   "cell_type": "code",
   "execution_count": 48,
   "id": "26dec313-9421-4bd0-a728-1633d7420ae6",
   "metadata": {},
   "outputs": [
    {
     "name": "stdout",
     "output_type": "stream",
     "text": [
      "\n",
      "Horizontal stacking:\n",
      "[[11 12 13 11 12 13]\n",
      " [14 15 16 14 15 16]]\n",
      "\n",
      "Vertical stacking:\n",
      "[[11 12 13]\n",
      " [14 15 16]\n",
      " [11 12 13]\n",
      " [14 15 16]]\n",
      "\n",
      "Depth stacking:\n",
      "[[[11 11]\n",
      "  [12 12]\n",
      "  [13 13]]\n",
      "\n",
      " [[14 14]\n",
      "  [15 15]\n",
      "  [16 16]]]\n",
      "\n"
     ]
    }
   ],
   "source": [
    "horizontal = np.hstack((arrA, arrA))\n",
    "# hstack() stacks arrays horizontally (side by side), adding columns\n",
    "\n",
    "vertical = np.vstack((arrA, arrA))\n",
    "# vstack() stacks arrays vertically (one on top of the other), adding rows\n",
    "\n",
    "depth = np.dstack((arrA, arrA))\n",
    "# dstack() stacks arrays along the third axis, creating a 3D array\n",
    "\n",
    "# displaying results \n",
    "print(f'''\n",
    "Horizontal stacking:\n",
    "{horizontal}\n",
    "\n",
    "Vertical stacking:\n",
    "{vertical}\n",
    "\n",
    "Depth stacking:\n",
    "{depth}\n",
    "''')"
   ]
  },
  {
   "cell_type": "markdown",
   "id": "f93b4cbf-7f71-47e3-9bd0-4704d0cd7df5",
   "metadata": {},
   "source": [
    "### Splitting Arrays"
   ]
  },
  {
   "cell_type": "code",
   "execution_count": 49,
   "id": "109b623c-82d2-498c-85f9-4c3e8f33edb8",
   "metadata": {},
   "outputs": [
    {
     "name": "stdout",
     "output_type": "stream",
     "text": [
      "[array([[11, 12, 13],\n",
      "       [14, 15, 16]]), array([[11, 12, 13],\n",
      "       [14, 15, 16]])]\n"
     ]
    }
   ],
   "source": [
    "splitsky = np.array_split(joined_array_1, 2)\n",
    "print(splitsky)"
   ]
  },
  {
   "cell_type": "code",
   "execution_count": 50,
   "id": "b059e368-b244-4193-ad3b-28297527c900",
   "metadata": {},
   "outputs": [],
   "source": [
    "# it splits the joined array into 2 arrays containg 2 rows of 2 dimensions equally"
   ]
  },
  {
   "cell_type": "code",
   "execution_count": 51,
   "id": "1f6a9d5f-fe98-496e-a609-f57a3c2b7b26",
   "metadata": {},
   "outputs": [
    {
     "name": "stdout",
     "output_type": "stream",
     "text": [
      "[array([[11, 12, 13],\n",
      "       [14, 15, 16]]), array([[11, 12, 13]]), array([[14, 15, 16]])]\n"
     ]
    }
   ],
   "source": [
    "spliterino = np.array_split(joined_array_1, 3)\n",
    "print(spliterino)"
   ]
  },
  {
   "cell_type": "code",
   "execution_count": 53,
   "id": "fa7e9156-9947-4e61-9b2f-e629ac6a4a85",
   "metadata": {},
   "outputs": [],
   "source": [
    "# Split into 3 arrays, all still 2d arrays\n",
    "# First array contains the full 2d array with 2 rows\n",
    "# 2nd & 3rd array was split from the other 2d array, one containing each row"
   ]
  },
  {
   "cell_type": "markdown",
   "id": "658ce291-ca21-4231-9de5-b4288cb724a0",
   "metadata": {},
   "source": [
    "### Searching and Replacing Array Values"
   ]
  },
  {
   "cell_type": "code",
   "execution_count": 54,
   "id": "2189d0aa-301b-4624-acf7-2030f50d151a",
   "metadata": {},
   "outputs": [
    {
     "name": "stdout",
     "output_type": "stream",
     "text": [
      "[['odd' '12' 'odd']\n",
      " ['14' 'odd' '16']]\n"
     ]
    }
   ],
   "source": [
    "result_1 = np.where(arrA % 2 == 0, arrA, 'odd')\n",
    "print(result_1)"
   ]
  },
  {
   "cell_type": "markdown",
   "id": "bcbf7fe5-a40c-4da7-9898-6bb4c1a713d5",
   "metadata": {},
   "source": [
    "### Sorting and Filtering Arrays"
   ]
  },
  {
   "cell_type": "code",
   "execution_count": 56,
   "id": "9c5b412d-b44c-4354-a42b-93453634f7ac",
   "metadata": {},
   "outputs": [
    {
     "name": "stdout",
     "output_type": "stream",
     "text": [
      "[[ 6  7]\n",
      " [ 5 13]\n",
      " [ 3  7]]\n"
     ]
    }
   ],
   "source": [
    "arrB = np.array([[7, 6], [13, 5], [7, 3]])\n",
    "\n",
    "arrB_sorted = np.sort(arrB)\n",
    "\n",
    "print(arrB_sorted)"
   ]
  },
  {
   "cell_type": "code",
   "execution_count": 60,
   "id": "ebf4414a-ce15-4af1-b7ab-03f762a52b02",
   "metadata": {},
   "outputs": [
    {
     "name": "stdout",
     "output_type": "stream",
     "text": [
      "[[ 7  6]\n",
      " [13  5]\n",
      " [ 7  3]] \n",
      "\n",
      "[6 5 3]\n"
     ]
    }
   ],
   "source": [
    "print(f'{arrB} \\n')\n",
    "\n",
    "z = arrB < 7\n",
    "arrC = arrB[z]\n",
    "\n",
    "print(arrC)"
   ]
  },
  {
   "cell_type": "code",
   "execution_count": 63,
   "id": "a9cd679f-6eea-4044-9fa5-7f6cb87bce81",
   "metadata": {},
   "outputs": [
    {
     "name": "stdout",
     "output_type": "stream",
     "text": [
      "[[ 7  6]\n",
      " [13  5]\n",
      " [ 7  3]] \n",
      "\n",
      "[ 7 13  7]\n"
     ]
    }
   ],
   "source": [
    "print(f'{arrB} \\n')\n",
    "\n",
    "y = arrB >= 7\n",
    "arrD = arrB[y]\n",
    "\n",
    "print(arrD)"
   ]
  },
  {
   "cell_type": "code",
   "execution_count": null,
   "id": "69f2b34e-6dc7-4669-86b9-d163d68b8806",
   "metadata": {},
   "outputs": [],
   "source": []
  }
 ],
 "metadata": {
  "kernelspec": {
   "display_name": "Python 3 (ipykernel)",
   "language": "python",
   "name": "python3"
  },
  "language_info": {
   "codemirror_mode": {
    "name": "ipython",
    "version": 3
   },
   "file_extension": ".py",
   "mimetype": "text/x-python",
   "name": "python",
   "nbconvert_exporter": "python",
   "pygments_lexer": "ipython3",
   "version": "3.12.6"
  }
 },
 "nbformat": 4,
 "nbformat_minor": 5
}
